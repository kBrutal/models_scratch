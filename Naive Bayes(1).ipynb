{
 "cells": [
  {
   "cell_type": "code",
   "execution_count": 1,
   "id": "d861fc1f",
   "metadata": {},
   "outputs": [],
   "source": [
    "import numpy as np\n",
    "import pandas as pd\n",
    "import matplotlib.pyplot as plt\n",
    "from scipy.stats import boxcox"
   ]
  },
  {
   "cell_type": "code",
   "execution_count": 2,
   "id": "530a247c",
   "metadata": {},
   "outputs": [],
   "source": [
    "data=np.array(pd.read_csv('ds1_train.csv'))"
   ]
  },
  {
   "cell_type": "code",
   "execution_count": 3,
   "id": "bd1098bc",
   "metadata": {},
   "outputs": [],
   "source": [
    "class Naive_Bayes:\n",
    "    \n",
    "    def fit(self, X, y):\n",
    "        m, n= X.shape                     # m->no. of training examples, n-> no. of features\n",
    "        self._classes= np.unique(y)       # array of unique values in y... determines the classes: 0 and 1\n",
    "        n_classes= len(self._classes)     # number of classes\n",
    "        \n",
    "        \n",
    "        #calculate the mean, variance and the prior (relative frequency) of each class\n",
    "        \n",
    "        #initialising the arrays with required shape\n",
    "        self.means= np.zeros((n_classes, n))\n",
    "        self.var= np.zeros((n_classes, n))\n",
    "        self.priors= np.zeros(n_classes)\n",
    "        \n",
    "        for i, c in enumerate(self._classes):\n",
    "            X_c=[]\n",
    "            for j in range(m):                           # extract the set from X which belong to given class\n",
    "                if y[j]==c:\n",
    "                    X_c.append(X[j])\n",
    "            self.means[i, :]= np.mean(X_c, axis=0)    # mean of each feature belonging to the class (along columns)\n",
    "            self.var[i, :]= np.var(X_c, axis=0)       # variance of each feature belonging to the class\n",
    "            self.priors[i]= (len(X_c))/ (float(m))\n",
    "            \n",
    "            \n",
    "    def _predict(self, x):                         # makes prediction on one training example\n",
    "        posteriors=[]                              # list to contain the posteriors with respect to all classes and then argmax is computed over this list\n",
    "        for i, c in enumerate(self._classes):\n",
    "            prior= np.log(self.priors[i])\n",
    "            posterior= np.sum(np.log(self.pdf(i, x)))   # pdf is the probablity distribution function calculated for all features individually... the mean corresponding to the class is accessed by the index passed as parameter... _pdf returns a (1*n) array for a feature\n",
    "            posterior+=prior\n",
    "            \n",
    "            posteriors.append(posterior)\n",
    "            \n",
    "        return self._classes[np.argmax(posteriors)]\n",
    "    \n",
    "    \n",
    "    def predict(self, X):\n",
    "        Y_pred=[]\n",
    "        for x in X:\n",
    "            Y_pred.append(self._predict(x))\n",
    "        return np.array(Y_pred)\n",
    "    \n",
    "    \n",
    "    def pdf(self, idx, x):\n",
    "        mean= self.means[idx]         # mean of given class => a (1*n) array\n",
    "        var= self.var[idx]            # var of given class => a (1*n) array\n",
    "        \n",
    "        pdv=(np.exp(-(x-mean)**2/(2*var))/np.sqrt(2*np.pi*var))   # pdv is also a (1*n) array \n",
    "        return pdv\n",
    "            \n",
    "        \n",
    "        "
   ]
  },
  {
   "cell_type": "code",
   "execution_count": 4,
   "id": "8213150c",
   "metadata": {},
   "outputs": [],
   "source": [
    "# scales the data according to z-score\n",
    "\n",
    "class Standard_Scaler:\n",
    "    def __init__(self):\n",
    "        self.mean_ = None\n",
    "        self.std_ = None\n",
    "\n",
    "    def fit(self, X):\n",
    "        self.mean_ = np.mean(X, axis=0)\n",
    "        self.std_ = np.std(X, axis=0)\n",
    "\n",
    "    def transform(self, X):\n",
    "        \n",
    "\n",
    "        scaled_data = (X - self.mean_) / self.std_\n",
    "        return scaled_data\n",
    "\n",
    "    def fit_transform(self, X):\n",
    "        self.fit(X)\n",
    "        return self.transform(X)\n"
   ]
  },
  {
   "cell_type": "code",
   "execution_count": 5,
   "id": "da16ccda",
   "metadata": {},
   "outputs": [],
   "source": [
    "#splitting the data into training and cross validation sets\n",
    "\n",
    "def Splitter( X, test_size= 0.2):\n",
    "    shuffled_indices= np.random.permutation(len(X))\n",
    "    test_set_size= int(test_size* len(X))\n",
    "    test_indices= shuffled_indices[:test_set_size]\n",
    "    train_indices= shuffled_indices[test_set_size:]\n",
    "        \n",
    "    return train_indices, test_indices\n",
    "        "
   ]
  },
  {
   "cell_type": "code",
   "execution_count": 6,
   "id": "c38affdc",
   "metadata": {},
   "outputs": [],
   "source": [
    "def boxcox_gauss_transform(data):\n",
    "    \n",
    "\n",
    "    \n",
    "    has_negative_values = np.any(data < 0)\n",
    "\n",
    "    if has_negative_values:\n",
    "        # Shift the data to make all values positive (add a constant)\n",
    "        data += np.abs(data.min()) + 1e-10  # Adding a small epsilon to avoid zero values\n",
    "\n",
    "    # Apply Box-Cox transformation to both features\n",
    "    transformed_data = np.zeros_like(data)\n",
    "    for i in range(2):\n",
    "        transformed_data[:, i], _ = boxcox(data[:, i])\n",
    "\n",
    "    return transformed_data\n"
   ]
  },
  {
   "cell_type": "code",
   "execution_count": 7,
   "id": "02c3529c",
   "metadata": {},
   "outputs": [],
   "source": [
    "def confusion_matrix_fun(y, y_pred):\n",
    "    confusion_matrix= np.zeros([2,2])\n",
    "    for i in range(len(y)):\n",
    "        if(y[i]==1 and y_pred[i]==1):\n",
    "            confusion_matrix[0,0]+=1\n",
    "        elif(y[i]==0 and y_pred[i]==1):\n",
    "            confusion_matrix[0,1]+=1\n",
    "        elif(y[i]==1 and y_pred[i]==0):\n",
    "            confusion_matrix[1,0]+=1\n",
    "        else:\n",
    "            confusion_matrix[1,1]+=1\n",
    "        \n",
    "        recall= (confusion_matrix[0,0]/(confusion_matrix[0,0]+confusion_matrix[0,1]))\n",
    "        precision= (confusion_matrix[0,0]/(confusion_matrix[0,0]+confusion_matrix[1,0]))\n",
    "        f1_score= (2*precision*recall)/(precision+recall)\n",
    "\n",
    "            \n",
    "        \n",
    "    return confusion_matrix, recall, precision, f1_score"
   ]
  },
  {
   "cell_type": "code",
   "execution_count": 8,
   "id": "815ac0e7",
   "metadata": {},
   "outputs": [
    {
     "data": {
      "text/plain": [
       "(array([  1.,   1.,  10.,  39., 100., 180., 157., 114.,  28.,  10.]),\n",
       " array([-4.27569288, -3.55955864, -2.8434244 , -2.12729016, -1.41115592,\n",
       "        -0.69502168,  0.02111256,  0.7372468 ,  1.45338104,  2.16951528,\n",
       "         2.88564952]),\n",
       " <BarContainer object of 10 artists>)"
      ]
     },
     "execution_count": 8,
     "metadata": {},
     "output_type": "execute_result"
    },
    {
     "data": {
      "image/png": "[encoded data removed]",
      "text/plain": [
       "<Figure size 640x480 with 1 Axes>"
      ]
     },
     "metadata": {},
     "output_type": "display_data"
    }
   ],
   "source": [
    "train_indices, test_indices= Splitter(data)\n",
    "data_train= data[train_indices]\n",
    "data_cv= data[test_indices]\n",
    "X_train= data_train[:, :2]\n",
    "y_train= data_train[:, 2:]\n",
    "X_cv= data_cv[:, :2]\n",
    "y_cv= data_cv[:, 2:]\n",
    "X_train= boxcox_gauss_transform(np.array(X_train))    \n",
    "scaler= Standard_Scaler()\n",
    "X_train=scaler.fit_transform(X_train)\n",
    "plt.hist(np.array(X_train[:, 1]))\n",
    "plt.hist(np.array(X_train[:, 0]))"
   ]
  },
  {
   "cell_type": "code",
   "execution_count": 9,
   "id": "7be3e4c0",
   "metadata": {},
   "outputs": [],
   "source": [
    "model=Naive_Bayes()"
   ]
  },
  {
   "cell_type": "code",
   "execution_count": 10,
   "id": "2d1edb37",
   "metadata": {},
   "outputs": [],
   "source": [
    "model.fit(X_train, y_train)"
   ]
  },
  {
   "cell_type": "code",
   "execution_count": 11,
   "id": "048318e6",
   "metadata": {},
   "outputs": [
    {
     "data": {
      "text/plain": [
       "array([1., 1., 1., 1., 0., 1., 1., 1., 0., 0., 1., 0., 1., 0., 1., 1., 1.,\n",
       "       0., 0., 1., 0., 1., 0., 0., 1., 1., 0., 1., 1., 0., 0., 0., 0., 0.,\n",
       "       1., 0., 0., 0., 1., 0., 1., 0., 1., 1., 0., 1., 0., 1., 0., 1., 0.,\n",
       "       1., 1., 0., 0., 1., 0., 1., 0., 0., 0., 1., 1., 0., 1., 0., 1., 0.,\n",
       "       1., 0., 0., 0., 0., 0., 1., 0., 0., 0., 0., 1., 1., 1., 1., 1., 0.,\n",
       "       1., 1., 1., 1., 0., 1., 1., 1., 0., 0., 1., 0., 0., 0., 1., 0., 0.,\n",
       "       1., 0., 0., 0., 1., 0., 1., 1., 0., 1., 1., 1., 0., 1., 1., 0., 0.,\n",
       "       1., 0., 1., 0., 0., 1., 0., 1., 0., 1., 0., 1., 0., 1., 0., 0., 1.,\n",
       "       0., 1., 0., 0., 0., 0., 1., 1., 0., 1., 0., 1., 1., 0., 0., 1., 0.,\n",
       "       0., 0., 0., 0., 1., 1., 1., 0., 1., 1., 0., 1., 0., 1., 0., 0., 1.,\n",
       "       0., 1., 0., 0., 1., 0., 1., 1., 1., 1., 1., 1., 0., 1., 1., 1., 0.,\n",
       "       1., 1., 1., 1., 1., 0., 0., 1., 1., 1., 0., 1., 0., 0., 1., 0., 0.,\n",
       "       0., 0., 0., 0., 0., 0., 1., 0., 1., 1., 1., 0., 1., 0., 1., 1., 0.,\n",
       "       1., 0., 1., 0., 1., 0., 1., 0., 0., 0., 0., 0., 0., 1., 1., 0., 1.,\n",
       "       0., 0., 1., 1., 0., 0., 0., 0., 0., 0., 1., 0., 0., 0., 0., 1., 1.,\n",
       "       0., 1., 0., 0., 0., 1., 1., 1., 1., 1., 1., 1., 1., 1., 1., 0., 1.,\n",
       "       0., 0., 0., 0., 1., 0., 0., 0., 0., 1., 1., 0., 1., 0., 0., 1., 1.,\n",
       "       0., 1., 0., 0., 1., 1., 0., 1., 1., 1., 1., 1., 0., 0., 1., 0., 0.,\n",
       "       0., 0., 1., 1., 0., 0., 1., 0., 0., 1., 0., 1., 1., 1., 1., 1., 1.,\n",
       "       1., 1., 1., 0., 0., 0., 1., 0., 0., 0., 0., 0., 0., 1., 1., 0., 1.,\n",
       "       0., 0., 0., 0., 1., 1., 1., 1., 0., 0., 1., 1., 0., 1., 1., 1., 0.,\n",
       "       1., 1., 1., 0., 1., 0., 0., 1., 1., 0., 1., 0., 1., 1., 1., 1., 0.,\n",
       "       1., 1., 0., 1., 0., 0., 1., 0., 1., 1., 0., 1., 1., 1., 1., 0., 0.,\n",
       "       1., 0., 1., 0., 1., 0., 0., 1., 1., 0., 0., 1., 1., 0., 0., 0., 1.,\n",
       "       0., 1., 0., 0., 1., 1., 1., 0., 1., 0., 0., 1., 0., 1., 1., 1., 0.,\n",
       "       0., 1., 0., 1., 1., 0., 0., 1., 1., 0., 0., 1., 1., 0., 1., 1., 0.,\n",
       "       1., 1., 0., 1., 0., 1., 1., 0., 0., 0., 1., 0., 1., 0., 1., 0., 1.,\n",
       "       1., 0., 0., 1., 1., 0., 1., 0., 0., 1., 0., 1., 0., 1., 0., 1., 0.,\n",
       "       1., 1., 1., 0., 1., 0., 0., 1., 0., 0., 1., 0., 1., 1., 0., 1., 0.,\n",
       "       0., 0., 1., 0., 1., 1., 0., 1., 0., 0., 1., 1., 1., 0., 0., 0., 0.,\n",
       "       1., 0., 1., 0., 0., 1., 0., 1., 1., 1., 0., 0., 1., 0., 1., 0., 0.,\n",
       "       1., 0., 0., 0., 1., 1., 1., 1., 0., 0., 1., 0., 1., 0., 1., 1., 1.,\n",
       "       0., 1., 1., 1., 0., 1., 1., 0., 0., 1., 1., 0., 1., 0., 1., 1., 0.,\n",
       "       1., 1., 0., 1., 0., 1., 0., 0., 0., 0., 1., 0., 1., 1., 1., 1., 1.,\n",
       "       0., 1., 1., 0., 1., 1., 0., 1., 0., 0., 1., 0., 0., 1., 1., 0., 1.,\n",
       "       0., 1., 1., 1., 1., 1., 1., 0., 1., 0., 0., 0., 1., 1., 0., 1., 1.,\n",
       "       1., 1., 1., 0., 1., 1., 0., 0., 1., 1., 1., 1., 0., 1., 0., 0., 0.,\n",
       "       0., 1., 1., 1., 0., 1., 1., 1., 1., 1., 0.])"
      ]
     },
     "execution_count": 11,
     "metadata": {},
     "output_type": "execute_result"
    }
   ],
   "source": [
    "y_pred=model.predict(X_train)\n",
    "y_pred"
   ]
  },
  {
   "cell_type": "code",
   "execution_count": 12,
   "id": "60cd1dda",
   "metadata": {},
   "outputs": [],
   "source": [
    "def accuracy(y, y_pred):\n",
    "    count=0\n",
    "    for i in range(len(y)):\n",
    "        count+=(y[i]==y_pred[i])\n",
    "    return (count/len(y))\n",
    "        "
   ]
  },
  {
   "cell_type": "code",
   "execution_count": 13,
   "id": "17bf382c",
   "metadata": {},
   "outputs": [
    {
     "name": "stdout",
     "output_type": "stream",
     "text": [
      "[0.915625]\n"
     ]
    }
   ],
   "source": [
    "print(accuracy(y_train, y_pred))"
   ]
  },
  {
   "cell_type": "code",
   "execution_count": 14,
   "id": "e2f69ab1",
   "metadata": {},
   "outputs": [
    {
     "data": {
      "text/plain": [
       "(array([ 1.,  5.,  6., 18., 34., 33., 25., 20., 13.,  5.]),\n",
       " array([-2.95686612, -2.42436718, -1.89186824, -1.3593693 , -0.82687036,\n",
       "        -0.29437143,  0.23812751,  0.77062645,  1.30312539,  1.83562433,\n",
       "         2.36812327]),\n",
       " <BarContainer object of 10 artists>)"
      ]
     },
     "execution_count": 14,
     "metadata": {},
     "output_type": "execute_result"
    },
    {
     "data": {
      "image/png": "[encoded data removed]",
      "text/plain": [
       "<Figure size 640x480 with 1 Axes>"
      ]
     },
     "metadata": {},
     "output_type": "display_data"
    }
   ],
   "source": [
    "X_cv= boxcox_gauss_transform(X_cv)\n",
    "X_cv=scaler.fit_transform(X_cv)\n",
    "plt.hist(X_cv[:, 1])\n",
    "plt.hist(X_cv[:, 0])"
   ]
  },
  {
   "cell_type": "code",
   "execution_count": 15,
   "id": "d693d568",
   "metadata": {},
   "outputs": [
    {
     "name": "stdout",
     "output_type": "stream",
     "text": [
      "[0.88125]\n"
     ]
    }
   ],
   "source": [
    "y_pred_cv= model.predict(X_cv)\n",
    "print(accuracy(y_cv, y_pred_cv))"
   ]
  },
  {
   "cell_type": "code",
   "execution_count": 16,
   "id": "1341b54d",
   "metadata": {},
   "outputs": [
    {
     "data": {
      "text/plain": [
       "(array([ 3.,  6.,  8., 16., 23., 18., 14.,  8.,  3.,  1.]),\n",
       " array([-2.44934736, -1.9320058 , -1.41466424, -0.89732268, -0.37998112,\n",
       "         0.13736043,  0.65470199,  1.17204355,  1.68938511,  2.20672667,\n",
       "         2.72406822]),\n",
       " <BarContainer object of 10 artists>)"
      ]
     },
     "execution_count": 16,
     "metadata": {},
     "output_type": "execute_result"
    },
    {
     "data": {
      "image/png": "[encoded data removed]",
      "text/plain": [
       "<Figure size 640x480 with 1 Axes>"
      ]
     },
     "metadata": {},
     "output_type": "display_data"
    }
   ],
   "source": [
    "data_test= pd.read_csv('ds1_test.csv')\n",
    "X_test=np.array(data_test.iloc[:, :2])\n",
    "y_test=np.array(data_test.iloc[:, 2:])\n",
    "X_test= boxcox_gauss_transform(np.array(X_test))    \n",
    "X_test=scaler.fit_transform(X_test)\n",
    "plt.hist(np.array(X_test[:, 0]))\n",
    "plt.hist(np.array(X_test[:, 1]))"
   ]
  },
  {
   "cell_type": "code",
   "execution_count": 17,
   "id": "f011d098",
   "metadata": {},
   "outputs": [
    {
     "name": "stdout",
     "output_type": "stream",
     "text": [
      "0.94\n"
     ]
    }
   ],
   "source": [
    "y_pred_test= model.predict(X_test)\n",
    "print( accuracy(y_test.reshape(100,), y_pred_test))"
   ]
  },
  {
   "cell_type": "code",
   "execution_count": 18,
   "id": "3f38a2ca",
   "metadata": {},
   "outputs": [],
   "source": [
    "#loading the next set of data\n",
    "\n",
    "data_new= np.array(pd.read_csv('ds2_train.csv'))\n",
    "train, test= Splitter(data_new)\n",
    "X_train_new= data_new[train][:, :2]\n",
    "X_cv_new= data_new[test][:, :2]\n",
    "y_train_new= data_new[train][:, 2:]\n",
    "y_cv_new= data_new[test][:, 2:]"
   ]
  },
  {
   "cell_type": "code",
   "execution_count": 19,
   "id": "16d48f3f",
   "metadata": {},
   "outputs": [
    {
     "data": {
      "text/plain": [
       "(array([  1.,   1.,  13.,  43., 104., 175., 158., 103.,  37.,   5.]),\n",
       " array([-4.18012026, -3.47072752, -2.76133479, -2.05194206, -1.34254933,\n",
       "        -0.6331566 ,  0.07623614,  0.78562887,  1.4950216 ,  2.20441433,\n",
       "         2.91380706]),\n",
       " <BarContainer object of 10 artists>)"
      ]
     },
     "execution_count": 19,
     "metadata": {},
     "output_type": "execute_result"
    },
    {
     "data": {
      "image/png": "[encoded data removed]",
      "text/plain": [
       "<Figure size 640x480 with 1 Axes>"
      ]
     },
     "metadata": {},
     "output_type": "display_data"
    }
   ],
   "source": [
    "X_train_new= boxcox_gauss_transform(X_train_new)\n",
    "X_train_new= scaler.fit_transform(X_train_new)\n",
    "plt.hist(X_train_new[:, 0])\n",
    "plt.hist(X_train_new[:, 1])"
   ]
  },
  {
   "cell_type": "code",
   "execution_count": 20,
   "id": "02233007",
   "metadata": {},
   "outputs": [
    {
     "name": "stdout",
     "output_type": "stream",
     "text": [
      "[0.915625]\n"
     ]
    }
   ],
   "source": [
    "model_new= Naive_Bayes()\n",
    "model_new.fit(X_train_new, y_train_new)\n",
    "y_pred_train_new= model_new.predict(X_train_new)\n",
    "print(accuracy(y_train_new, y_pred_train_new))"
   ]
  },
  {
   "cell_type": "code",
   "execution_count": 21,
   "id": "cdee661f",
   "metadata": {},
   "outputs": [
    {
     "data": {
      "text/plain": [
       "(array([ 4.,  6., 16., 24., 43., 29., 24.,  6.,  7.,  1.]),\n",
       " array([-2.63945031, -2.08140791, -1.52336552, -0.96532312, -0.40728073,\n",
       "         0.15076166,  0.70880406,  1.26684645,  1.82488885,  2.38293124,\n",
       "         2.94097363]),\n",
       " <BarContainer object of 10 artists>)"
      ]
     },
     "execution_count": 21,
     "metadata": {},
     "output_type": "execute_result"
    },
    {
     "data": {
      "image/png": "[encoded data removed]",
      "text/plain": [
       "<Figure size 640x480 with 1 Axes>"
      ]
     },
     "metadata": {},
     "output_type": "display_data"
    }
   ],
   "source": [
    "X_cv_new= boxcox_gauss_transform(X_cv_new)\n",
    "X_cv_new= scaler.fit_transform(X_cv_new)\n",
    "plt.hist(X_cv_new[:, 0])\n",
    "plt.hist(X_cv_new[:, 1])"
   ]
  },
  {
   "cell_type": "code",
   "execution_count": 22,
   "id": "0916c02e",
   "metadata": {},
   "outputs": [
    {
     "name": "stdout",
     "output_type": "stream",
     "text": [
      "[0.90625]\n"
     ]
    }
   ],
   "source": [
    "y_pred_cv_new= model_new.predict(X_cv_new)\n",
    "print(accuracy(y_cv_new, y_pred_cv_new))"
   ]
  },
  {
   "cell_type": "code",
   "execution_count": 23,
   "id": "c945d024",
   "metadata": {},
   "outputs": [],
   "source": [
    "data_test_new= np.array(pd.read_csv('ds2_test.csv'))"
   ]
  },
  {
   "cell_type": "code",
   "execution_count": 24,
   "id": "79579e2e",
   "metadata": {},
   "outputs": [
    {
     "data": {
      "text/plain": [
       "(array([ 2.,  4., 10., 15., 13., 31., 20.,  0.,  3.,  2.]),\n",
       " array([-2.79452514, -2.22045323, -1.64638132, -1.07230941, -0.4982375 ,\n",
       "         0.07583442,  0.64990633,  1.22397824,  1.79805015,  2.37212206,\n",
       "         2.94619397]),\n",
       " <BarContainer object of 10 artists>)"
      ]
     },
     "execution_count": 24,
     "metadata": {},
     "output_type": "execute_result"
    },
    {
     "data": {
      "image/png": "[encoded data removed]",
      "text/plain": [
       "<Figure size 640x480 with 1 Axes>"
      ]
     },
     "metadata": {},
     "output_type": "display_data"
    }
   ],
   "source": [
    "X_test_new= data_test_new[:, :2]\n",
    "y_test_new= data_test_new[:, 2:]\n",
    "X_test_new= boxcox_gauss_transform(X_test_new)\n",
    "X_test_new= scaler.fit_transform(X_test_new)\n",
    "plt.hist(X_test_new[:, 0])\n",
    "plt.hist(X_test_new[:, 1])\n"
   ]
  },
  {
   "cell_type": "code",
   "execution_count": 25,
   "id": "f1b679c7",
   "metadata": {},
   "outputs": [
    {
     "name": "stdout",
     "output_type": "stream",
     "text": [
      "[0.91]\n"
     ]
    }
   ],
   "source": [
    "y_pred_test_new= model_new.predict(X_test_new)\n",
    "print(accuracy(y_pred_test_new, y_test_new))"
   ]
  },
  {
   "cell_type": "markdown",
   "id": "ac735bee",
   "metadata": {},
   "source": [
    "# applying sklearn to both datasets"
   ]
  },
  {
   "cell_type": "code",
   "execution_count": 26,
   "id": "8fcdb45b",
   "metadata": {},
   "outputs": [],
   "source": [
    "# applying sklearn model of ds_1\n",
    "from sklearn.naive_bayes import GaussianNB"
   ]
  },
  {
   "cell_type": "code",
   "execution_count": 27,
   "id": "8975e699",
   "metadata": {},
   "outputs": [
    {
     "name": "stdout",
     "output_type": "stream",
     "text": [
      "[0.915625]\n"
     ]
    },
    {
     "name": "stderr",
     "output_type": "stream",
     "text": [
      "/opt/homebrew/lib/python3.11/site-packages/sklearn/utils/validation.py:1111: DataConversionWarning: A column-vector y was passed when a 1d array was expected. Please change the shape of y to (n_samples, ), for example using ravel().\n",
      "  y = column_or_1d(y, warn=True)\n"
     ]
    }
   ],
   "source": [
    "gnb= GaussianNB()\n",
    "gnb.fit(X_train, y_train)\n",
    "y_pred_train_1= gnb.predict(X_train)\n",
    "print(accuracy(y_train, y_pred_train_1))"
   ]
  },
  {
   "cell_type": "code",
   "execution_count": 28,
   "id": "40bdd9e6",
   "metadata": {},
   "outputs": [
    {
     "name": "stdout",
     "output_type": "stream",
     "text": [
      "[0.94]\n"
     ]
    }
   ],
   "source": [
    "y_pred_test_1= gnb.predict(X_test)\n",
    "print(accuracy(y_test, y_pred_test_1))"
   ]
  },
  {
   "cell_type": "code",
   "execution_count": 29,
   "id": "2fb9f643",
   "metadata": {},
   "outputs": [
    {
     "name": "stdout",
     "output_type": "stream",
     "text": [
      "[0.915625]\n"
     ]
    },
    {
     "name": "stderr",
     "output_type": "stream",
     "text": [
      "/opt/homebrew/lib/python3.11/site-packages/sklearn/utils/validation.py:1111: DataConversionWarning: A column-vector y was passed when a 1d array was expected. Please change the shape of y to (n_samples, ), for example using ravel().\n",
      "  y = column_or_1d(y, warn=True)\n"
     ]
    }
   ],
   "source": [
    "#applying sklearn model of ds_2\n",
    "gnb.fit(X_train_new, y_train_new)\n",
    "y_pred_train_2= gnb.predict(X_train_new)\n",
    "print(accuracy(y_train_new, y_pred_train_2))"
   ]
  },
  {
   "cell_type": "code",
   "execution_count": 30,
   "id": "326cd669",
   "metadata": {},
   "outputs": [
    {
     "name": "stdout",
     "output_type": "stream",
     "text": [
      "[0.91]\n"
     ]
    }
   ],
   "source": [
    "y_pred_test_2= gnb.predict(X_test_new)\n",
    "print(accuracy(y_test_new, y_pred_test_2))"
   ]
  },
  {
   "cell_type": "code",
   "execution_count": null,
   "id": "d435ba8f",
   "metadata": {},
   "outputs": [],
   "source": []
  }
 ],
 "metadata": {
  "kernelspec": {
   "display_name": "Python 3 (ipykernel)",
   "language": "python",
   "name": "python3"
  },
  "language_info": {
   "codemirror_mode": {
    "name": "ipython",
    "version": 3
   },
   "file_extension": ".py",
   "mimetype": "text/x-python",
   "name": "python",
   "nbconvert_exporter": "python",
   "pygments_lexer": "ipython3",
   "version": "3.11.4"
  }
 },
 "nbformat": 4,
 "nbformat_minor": 5
}
