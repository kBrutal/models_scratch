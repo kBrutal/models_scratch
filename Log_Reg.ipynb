{
 "cells": [
  {
   "cell_type": "code",
   "execution_count": 1,
   "id": "be43662a",
   "metadata": {},
   "outputs": [],
   "source": [
    "import numpy as np\n",
    "import pandas as pd\n",
    "import matplotlib.pyplot as plt\n",
    "from scipy.stats import boxcox\n",
    "import seaborn as sns"
   ]
  },
  {
   "cell_type": "code",
   "execution_count": 2,
   "id": "7d3ab6e5",
   "metadata": {},
   "outputs": [],
   "source": [
    "# class defining Logistic Regression\n",
    "\n",
    "class Logistic_Regression:\n",
    "    def __init__(self, n_iters, alpha, lambda_=1):\n",
    "        self.n_iters= n_iters\n",
    "        self.alpha= alpha\n",
    "        self.lambda_= lambda_\n",
    "        self.W= None\n",
    "        self.b= None\n",
    "        \n",
    "    def fit(self, X, y):\n",
    "        m, n= X.shape                                           # m-> no. of training examples; n-> no. of features\n",
    "        \n",
    "        #initialising the weights and biases\n",
    "        self.W= np.zeros(n)\n",
    "        self.b= 0\n",
    "        \n",
    "        # applying gradient descent\n",
    "        \n",
    "        J_history=[]                            #stores the cost of each step\n",
    "        w_history=[]                            #stores parameters at each step\n",
    "        \n",
    "        \n",
    "        for i in range(self.n_iters):\n",
    "            dJ_dw, dJ_db= self.parameters( X, y)\n",
    "            self.W= self.W-self.alpha*dJ_dw\n",
    "            self.b= self.b-self.alpha*dJ_db\n",
    "            \n",
    "            if i<100000:\n",
    "                cost_n= self.compute_cost(X, y)\n",
    "                J_history.append(cost_n)\n",
    "                w_history.append(self.W)\n",
    "                \n",
    "            if(i%1000==0):                              #printing cost of every 1000th iteration\n",
    "                print(J_history[-1])\n",
    "                \n",
    "        return (self.W, self.b)                         # the fit function will return the last parameters\n",
    "                \n",
    "                \n",
    "    \n",
    "                \n",
    "    # function to compute cost for logistic regression    \n",
    "                \n",
    "    def compute_cost(self, X, y):\n",
    "        cost=0\n",
    "        m= X.shape[0]\n",
    "        \n",
    "        for i in range(m):\n",
    "            loss= -y[i]*(np.log(self.sigmoid(X[i])))-(1-y[i])*(np.log(1-self.sigmoid(X[i])))\n",
    "            cost+=loss\n",
    "            \n",
    "        reg=0\n",
    "        for w in self.W:\n",
    "            reg+=(w**2)\n",
    "            \n",
    "        reg=(self.lambda_)*(reg/(2*m))\n",
    "        cost+=reg\n",
    "            \n",
    "        return cost\n",
    "    \n",
    "    \n",
    "    # sigmoid function\n",
    "    \n",
    "    def sigmoid(self, X):\n",
    "        z=np.dot(self.W,X)+self.b\n",
    "        f_wb= 1/(1+np.exp(-z))\n",
    "        return f_wb\n",
    "    \n",
    "    \n",
    "    \n",
    "    # function to compute the derivatives\n",
    "    \n",
    "    def parameters(self, X, y):\n",
    "        dJ_dw=[0, 0]\n",
    "        dJ_db=0\n",
    "        m=X.shape[0]\n",
    "        for i in range(m):\n",
    "            dJ_dw_i=(self.sigmoid( X[i])- y[i])*X[i]\n",
    "            dJ_db_i=(self.sigmoid( X[i])- y[i])\n",
    "            \n",
    "            dJ_dw+=dJ_dw_i\n",
    "            dJ_db+=dJ_db_i\n",
    "        \n",
    "        dJ_dw=dJ_dw/m\n",
    "        dJ_db=dJ_db/m\n",
    "        \n",
    "        return dJ_dw, dJ_db\n",
    "    \n",
    "    \n",
    "    #prediction function\n",
    "    \n",
    "    def predict(self, X):\n",
    "        Y_pred=[]\n",
    "        for i in range(X.shape[0]):\n",
    "            Y_pred.append(self.sigmoid(X[i]))\n",
    "        return Y_pred"
   ]
  },
  {
   "cell_type": "code",
   "execution_count": 3,
   "id": "2abaff30",
   "metadata": {},
   "outputs": [],
   "source": [
    "# scales the data according to z-score\n",
    "\n",
    "class Standard_Scaler:\n",
    "    def __init__(self):\n",
    "        self.mean_ = None\n",
    "        self.std_ = None\n",
    "\n",
    "    def fit(self, X):\n",
    "        self.mean_ = np.mean(X, axis=0)                  #calculating the mean and standard deviation along columns\n",
    "        self.std_ = np.std(X, axis=0)\n",
    "\n",
    "    def transform(self, X):\n",
    "        scaled_data = (X - self.mean_) / self.std_\n",
    "        return scaled_data\n",
    "\n",
    "    def fit_transform(self, X):\n",
    "        self.fit(X)\n",
    "        return self.transform(X)\n"
   ]
  },
  {
   "cell_type": "code",
   "execution_count": 4,
   "id": "c0070f9b",
   "metadata": {},
   "outputs": [],
   "source": [
    "#splitting the data into training and cross validation sets\n",
    "\n",
    "def Splitter( X, test_size= 0.2, random_state= 42):\n",
    "    np.random.seed(random_state)\n",
    "    shuffled_indices= np.random.permutation(len(X))\n",
    "    test_set_size= int(test_size* len(X))\n",
    "    test_indices= shuffled_indices[:test_set_size]\n",
    "    train_indices= shuffled_indices[test_set_size:]\n",
    "        \n",
    "    return train_indices, test_indices"
   ]
  },
  {
   "cell_type": "code",
   "execution_count": 5,
   "id": "bec5da8d",
   "metadata": {},
   "outputs": [],
   "source": [
    "def boxcox_gauss_transform(data):\n",
    "    negative_values = np.any(data < 0)\n",
    "\n",
    "    # handling negative values\n",
    "    \n",
    "    if (negative_values==1):\n",
    "        # shift the data to make all values positive (add a constant)\n",
    "        data += np.abs(data.min()) + 1e-10  # adding a very small value to avoid zero values\n",
    "\n",
    "    # Apply Box-Cox transformation to both features\n",
    "    transformed_data = np.zeros_like(data)\n",
    "    for i in range(2):\n",
    "        transformed_data[:, i], _ = boxcox(data[:, i])\n",
    "\n",
    "    return transformed_data\n"
   ]
  },
  {
   "cell_type": "code",
   "execution_count": 6,
   "id": "11716708",
   "metadata": {},
   "outputs": [],
   "source": [
    "#preparing the prediction finally, if yhat >=0.5, the prediction is 1 else it is 0\n",
    "\n",
    "def final(y_pred):\n",
    "    for i in range(len(y_pred)):\n",
    "        if(y_pred[i]>=0.5):\n",
    "            y_pred[i]=1\n",
    "        else:\n",
    "            y_pred[i]=0\n",
    "    return y_pred"
   ]
  },
  {
   "cell_type": "code",
   "execution_count": 7,
   "id": "7e56ca2e",
   "metadata": {},
   "outputs": [],
   "source": [
    "#the accuracy function -> percentage of datapoints accurately predicted\n",
    "def accuracy(y, y_pred):\n",
    "    count=0\n",
    "    m=len(y_pred)\n",
    "    for i in range(y.shape[0]):\n",
    "        count+=(y_pred[i]==y[i])\n",
    "        \n",
    "    return (float(count/m))\n",
    "        "
   ]
  },
  {
   "cell_type": "code",
   "execution_count": 8,
   "id": "336af6a6",
   "metadata": {},
   "outputs": [],
   "source": [
    "#the confusion matrix function -> computes the confusion matrix, recall value, precision value and f1 score \n",
    "def confusion_matrix_fun(y, y_pred):\n",
    "    confusion_matrix= np.zeros([2,2])\n",
    "    for i in range(len(y)):\n",
    "        if(y[i]==1 and y_pred[i]==1):\n",
    "            confusion_matrix[0,0]+=1\n",
    "        elif(y[i]==0 and y_pred[i]==1):\n",
    "            confusion_matrix[0,1]+=1\n",
    "        elif(y[i]==1 and y_pred[i]==0):\n",
    "            confusion_matrix[1,0]+=1\n",
    "        else:\n",
    "            confusion_matrix[1,1]+=1\n",
    "        \n",
    "        recall= (confusion_matrix[0,0]/(confusion_matrix[0,0]+confusion_matrix[0,1]))\n",
    "        precision= (confusion_matrix[0,0]/(confusion_matrix[0,0]+confusion_matrix[1,0]))\n",
    "        f1_score= (2*precision*recall)/(precision+recall)\n",
    "\n",
    "            \n",
    "        \n",
    "    return confusion_matrix, recall, precision, f1_score"
   ]
  },
  {
   "cell_type": "code",
   "execution_count": 9,
   "id": "cdaa05f9",
   "metadata": {},
   "outputs": [
    {
     "data": {
      "image/png": "[encoded data removed]",
      "text/plain": [
       "<Figure size 640x480 with 1 Axes>"
      ]
     },
     "metadata": {},
     "output_type": "display_data"
    }
   ],
   "source": [
    "#plotting the data points -> red points denote label 1, while the blue ones denor\n",
    "data=pd.read_csv('ds1_train.csv')\n",
    "data_df=data.copy()\n",
    "sns.scatterplot(data=data, x='x_1', y='x_2', hue='y', style='y', markers=['o', 's'])\n",
    "data=np.array(data)"
   ]
  },
  {
   "cell_type": "code",
   "execution_count": 11,
   "id": "239f8b3e",
   "metadata": {},
   "outputs": [],
   "source": [
    "#dividing the dataset into training and cross validation sets\n",
    "train_indices, test_indices= Splitter(data)\n",
    "data_train= data[train_indices]\n",
    "data_cv= data[test_indices]\n",
    "X_train= data_train[:, :2]\n",
    "y_train= data_train[:, 2:]\n",
    "X_cv= data_cv[:, :2]\n",
    "y_cv= data_cv[:, 2:]\n",
    "\n",
    "data_train_df= pd.DataFrame(data_train, columns=['x_1', 'x_2', 'y'])"
   ]
  },
  {
   "cell_type": "code",
   "execution_count": 12,
   "id": "d4235506",
   "metadata": {},
   "outputs": [
    {
     "data": {
      "text/plain": [
       "<Axes: xlabel='x_1', ylabel='x_2'>"
      ]
     },
     "execution_count": 12,
     "metadata": {},
     "output_type": "execute_result"
    },
    {
     "data": {
      "image/png": "[encoded data removed]",
      "text/plain": [
       "<Figure size 640x480 with 1 Axes>"
      ]
     },
     "metadata": {},
     "output_type": "display_data"
    }
   ],
   "source": [
    "# visualising the training data\n",
    "sns.scatterplot(data=data_train_df, x='x_1', y='x_2', hue='y', style='y', markers=['o', 'o'])"
   ]
  },
  {
   "cell_type": "code",
   "execution_count": 13,
   "id": "1bedd137",
   "metadata": {},
   "outputs": [
    {
     "data": {
      "text/plain": [
       "(array([  3.,  14.,  49.,  99., 122., 139., 114.,  71.,  21.,   8.]),\n",
       " array([-3.05569501, -2.46770535, -1.87971569, -1.29172604, -0.70373638,\n",
       "        -0.11574673,  0.47224293,  1.06023259,  1.64822224,  2.2362119 ,\n",
       "         2.82420155]),\n",
       " <BarContainer object of 10 artists>)"
      ]
     },
     "execution_count": 13,
     "metadata": {},
     "output_type": "execute_result"
    },
    {
     "data": {
      "image/png": "[encoded data removed]",
      "text/plain": [
       "<Figure size 640x480 with 1 Axes>"
      ]
     },
     "metadata": {},
     "output_type": "display_data"
    }
   ],
   "source": [
    "# applying scaling and boxcox transform to the training and cross validation sets\n",
    "\n",
    "X_train= boxcox_gauss_transform(X_train)\n",
    "\n",
    "scaler= Standard_Scaler()\n",
    "X_train= scaler.fit_transform(X_train)\n",
    "\n",
    "\n",
    "#plotting the histogram for training set\n",
    "plt.hist(X_train[:, 0], color=\"blue\")\n",
    "plt.hist(X_train[:, 1], color=\"orange\")"
   ]
  },
  {
   "cell_type": "code",
   "execution_count": 14,
   "id": "bc5fb200",
   "metadata": {},
   "outputs": [
    {
     "name": "stdout",
     "output_type": "stream",
     "text": [
      "[442.95652109]\n",
      "[220.0145344]\n",
      "[181.89711963]\n",
      "[167.13018225]\n",
      "[159.55815489]\n",
      "[155.09244882]\n",
      "[152.22832815]\n",
      "[150.28599319]\n",
      "[148.91542477]\n",
      "[147.91923788]\n",
      "The final values of weights are: [ 3.2071509  -2.97880933] and bias is: [-0.1118301]\n"
     ]
    }
   ],
   "source": [
    "#training the model on the training set\n",
    "model= Logistic_Regression(n_iters= 10000, alpha= 0.01, lambda_=1)\n",
    "W_final, b_final= model.fit(X_train, y_train)\n",
    "print(f'The final values of weights are: {W_final} and bias is: {b_final}')"
   ]
  },
  {
   "cell_type": "code",
   "execution_count": 14,
   "id": "a6def1df",
   "metadata": {},
   "outputs": [
    {
     "name": "stdout",
     "output_type": "stream",
     "text": [
      "0.9078\n"
     ]
    }
   ],
   "source": [
    "# accuracy of predictions over the training set\n",
    "y_pred_train= model.predict(X_train)\n",
    "y_pred_train= final(y_pred_train)\n",
    "print((\"%0.4f\" %accuracy(y_train, y_pred_train)))"
   ]
  },
  {
   "cell_type": "code",
   "execution_count": 15,
   "id": "2cadb2b0",
   "metadata": {},
   "outputs": [
    {
     "name": "stdout",
     "output_type": "stream",
     "text": [
      "[88.56582156]\n",
      "[38.87796079]\n",
      "[30.51524581]\n",
      "[27.03017063]\n",
      "[25.10201991]\n",
      "[23.87663244]\n",
      "[23.03081155]\n",
      "[22.41403683]\n",
      "[21.94632878]\n",
      "[21.58110908]\n",
      "[88.58386744]\n",
      "[42.44687604]\n",
      "[34.54303365]\n",
      "[31.39882176]\n",
      "[29.74579252]\n",
      "[28.74754585]\n",
      "[28.09244358]\n",
      "[27.63802631]\n",
      "[27.31010298]\n",
      "[27.06636165]\n",
      "[88.56487785]\n",
      "[40.25080733]\n",
      "[32.71842618]\n",
      "[29.75350211]\n",
      "[28.20117499]\n",
      "[27.26694796]\n",
      "[26.65608576]\n",
      "[26.23405648]\n",
      "[25.93084532]\n",
      "[25.70654394]\n",
      "[88.55619298]\n",
      "[37.77463204]\n",
      "[29.78007564]\n",
      "[26.58752422]\n",
      "[24.89135934]\n",
      "[23.85504681]\n",
      "[23.16679886]\n",
      "[22.68361938]\n",
      "[22.33070991]\n",
      "[22.06520085]\n",
      "[88.56881005]\n",
      "[40.69964442]\n",
      "[33.16856908]\n",
      "[30.20769832]\n",
      "[28.65691354]\n",
      "[27.72242994]\n",
      "[27.11030668]\n",
      "[26.68650861]\n",
      "[26.38130956]\n",
      "[26.15496652]\n"
     ]
    }
   ],
   "source": [
    "# here the cross-validation set is splitted into two datasets 5 times and model is trained on the larger set while\n",
    "# prediction is made in the smaller set. each time the datasets are different as a different random state is seeded each time\n",
    "p=55\n",
    "accuracy_list=[]\n",
    "for i in range(5):\n",
    "    train, test= Splitter(data_cv, random_state=p)\n",
    "    data_= data_cv[train]\n",
    "    X_= data_[:, :2]\n",
    "    y_= data_[:, 2:]\n",
    "    _data= data_cv[test]\n",
    "    _X= _data[:, :2]\n",
    "    _y= _data[:, 2:]\n",
    "    X_= boxcox_gauss_transform(X_)\n",
    "    X_= scaler.fit_transform(X_)\n",
    "    _X= boxcox_gauss_transform(_X)\n",
    "    _X= scaler.fit_transform(_X)\n",
    "    model_new= Logistic_Regression(n_iters= 10000, alpha= 0.01, lambda_=1)\n",
    "    model_new.fit(X_, y_)\n",
    "    y_pred_= model_new.predict(_X)\n",
    "    y_pred_= final(y_pred_)\n",
    "    accuracy_list.append(accuracy(_y, y_pred_))\n",
    "    p+=20"
   ]
  },
  {
   "cell_type": "code",
   "execution_count": 16,
   "id": "673776ab",
   "metadata": {},
   "outputs": [
    {
     "name": "stdout",
     "output_type": "stream",
     "text": [
      "[0.90625, 0.9375, 0.96875, 0.8125, 0.96875]\n"
     ]
    }
   ],
   "source": [
    "print(accuracy_list)"
   ]
  },
  {
   "cell_type": "code",
   "execution_count": 17,
   "id": "acb409f1",
   "metadata": {},
   "outputs": [],
   "source": [
    "data_test= np.array(pd.read_csv('ds1_test.csv'))\n",
    "X_test= data_test[:, :2]\n",
    "y_test= data_test[:, 2:]\n",
    "X_test= boxcox_gauss_transform(X_test)\n",
    "\n",
    "X_test= scaler.fit_transform(X_test)"
   ]
  },
  {
   "cell_type": "code",
   "execution_count": 18,
   "id": "fdf07935",
   "metadata": {},
   "outputs": [
    {
     "name": "stdout",
     "output_type": "stream",
     "text": [
      "0.92\n"
     ]
    }
   ],
   "source": [
    "y_pred_test=final(model.predict(X_test))\n",
    "print(accuracy(y_test, y_pred_test))"
   ]
  },
  {
   "cell_type": "code",
   "execution_count": 19,
   "id": "41ac2d00",
   "metadata": {},
   "outputs": [],
   "source": [
    "splitted_test_1_idx, splitted_test_2_idx= Splitter(data_test)\n",
    "splitted_test_1= data_test[splitted_test_1_idx]\n",
    "splitted_test_2= data_test[splitted_test_2_idx]\n",
    "X_1= splitted_test_1[:, :2]\n",
    "y_1= splitted_test_1[:, 2:]\n",
    "X_2= splitted_test_2[:, :2]\n",
    "y_2= splitted_test_2[:, 2:]\n",
    "\n",
    "X_1= boxcox_gauss_transform(X_1)\n",
    "X_1= scaler.fit_transform(X_1)\n",
    "\n",
    "X_2= boxcox_gauss_transform(X_2)\n",
    "X_2= scaler.fit_transform(X_2)"
   ]
  },
  {
   "cell_type": "code",
   "execution_count": 20,
   "id": "0440cc10",
   "metadata": {},
   "outputs": [],
   "source": [
    "n_iters_list=[1000, 10000]\n",
    "alphas= [ 0.01, 0.001]\n",
    "lambdas=[0.1 ,1.0,10.0]"
   ]
  },
  {
   "cell_type": "code",
   "execution_count": 21,
   "id": "d94ced17",
   "metadata": {},
   "outputs": [
    {
     "name": "stdout",
     "output_type": "stream",
     "text": [
      "[55.37055445]\n",
      "[55.44364648]\n",
      "[55.37055445]\n",
      "[28.22156185]\n",
      "[23.81889272]\n",
      "[22.16616322]\n",
      "[21.34278351]\n",
      "[20.87373027]\n",
      "[20.5858841]\n",
      "[20.40133485]\n",
      "[20.2800342]\n",
      "[20.19943178]\n",
      "[55.44364648]\n",
      "[48.4985744]\n",
      "[43.42767565]\n",
      "[39.65192288]\n",
      "[36.77411662]\n",
      "[34.529332]\n",
      "[32.74066464]\n",
      "[31.28822591]\n",
      "[30.08910365]\n",
      "[29.08469971]\n",
      "[55.370559]\n",
      "[55.44364653]\n",
      "[55.370559]\n",
      "[29.59488579]\n",
      "[26.61285747]\n",
      "[26.10926185]\n",
      "[26.23984476]\n",
      "[26.58167823]\n",
      "[26.99483129]\n",
      "[27.4237137]\n",
      "[27.84411786]\n",
      "[28.24523949]\n",
      "[55.44364653]\n",
      "[48.53744735]\n",
      "[43.56138507]\n",
      "[39.91330505]\n",
      "[37.1818502]\n",
      "[35.09351541]\n",
      "[33.46617226]\n",
      "[32.17672283]\n",
      "[31.14026903]\n",
      "[30.29698187]\n",
      "[55.37060444]\n",
      "[55.44364698]\n",
      "[55.37060444]\n",
      "[43.32812526]\n",
      "[54.55250504]\n",
      "[65.54024811]\n",
      "[75.21045726]\n",
      "[83.6611578]\n",
      "[91.08430322]\n",
      "[97.64750226]\n",
      "[103.48495453]\n",
      "[108.70331653]\n",
      "[55.44364698]\n",
      "[48.92617687]\n",
      "[44.89847926]\n",
      "[42.52712678]\n",
      "[41.25918607]\n",
      "[40.73534953]\n",
      "[40.72124845]\n",
      "[41.06169209]\n",
      "[41.65192279]\n",
      "[42.41980346]\n"
     ]
    }
   ],
   "source": [
    "accuracy_list=[]\n",
    "hyper_param=[]\n",
    "f1_score_list=[]\n",
    "for k in (lambdas):\n",
    "    for i in n_iters_list:\n",
    "        for j in alphas:\n",
    "            model_=Logistic_Regression(n_iters= i, alpha= j, lambda_= k)\n",
    "            model_.fit(X_1, y_1)\n",
    "            y_pred= model_.predict(X_2)\n",
    "            y_pred=final(y_pred)\n",
    "            _accuracy= accuracy(y_2, y_pred)\n",
    "            _,_,_,f1_score= confusion_matrix_fun(y_2, y_pred)\n",
    "            accuracy_list.append(_accuracy)\n",
    "            hyper_param.append([i, j, k])\n",
    "            f1_score_list.append(f1_score)"
   ]
  },
  {
   "cell_type": "code",
   "execution_count": 22,
   "id": "f5e2a290",
   "metadata": {},
   "outputs": [
    {
     "name": "stdout",
     "output_type": "stream",
     "text": [
      "[0.9, 0.85, 0.95, 0.9, 0.9, 0.85, 0.95, 0.9, 0.9, 0.85, 0.95, 0.9]\n"
     ]
    }
   ],
   "source": [
    "print(accuracy_list)"
   ]
  },
  {
   "cell_type": "code",
   "execution_count": 23,
   "id": "8f195180",
   "metadata": {},
   "outputs": [
    {
     "name": "stdout",
     "output_type": "stream",
     "text": [
      "[0.888888888888889, 0.8421052631578948, 0.9411764705882353, 0.888888888888889, 0.888888888888889, 0.8421052631578948, 0.9411764705882353, 0.888888888888889, 0.888888888888889, 0.8421052631578948, 0.9411764705882353, 0.888888888888889]\n"
     ]
    }
   ],
   "source": [
    "print(f1_score_list)"
   ]
  },
  {
   "cell_type": "code",
   "execution_count": 24,
   "id": "31db7d2d",
   "metadata": {},
   "outputs": [
    {
     "name": "stdout",
     "output_type": "stream",
     "text": [
      "[[1000, 0.01, 0.1], [1000, 0.001, 0.1], [10000, 0.01, 0.1], [10000, 0.001, 0.1], [1000, 0.01, 1.0], [1000, 0.001, 1.0], [10000, 0.01, 1.0], [10000, 0.001, 1.0], [1000, 0.01, 10.0], [1000, 0.001, 10.0], [10000, 0.01, 10.0], [10000, 0.001, 10.0]]\n"
     ]
    }
   ],
   "source": [
    "print(hyper_param)"
   ]
  },
  {
   "cell_type": "code",
   "execution_count": 25,
   "id": "703b9774",
   "metadata": {},
   "outputs": [
    {
     "name": "stdout",
     "output_type": "stream",
     "text": [
      "The best hyperparameters according to accuracy and f1_score are: [10000, 0.01, 0.1], [10000, 0.01, 1.0] and [10000, 0.01, 10.0]\n"
     ]
    }
   ],
   "source": [
    "print(f\"The best hyperparameters according to accuracy and f1_score are: {hyper_param[2]}, {hyper_param[6]} and {hyper_param[10]}\")"
   ]
  },
  {
   "cell_type": "code",
   "execution_count": 29,
   "id": "e335c776",
   "metadata": {},
   "outputs": [],
   "source": [
    "from sklearn.linear_model import LogisticRegression"
   ]
  },
  {
   "cell_type": "code",
   "execution_count": 30,
   "id": "3804ca6b",
   "metadata": {},
   "outputs": [
    {
     "name": "stdout",
     "output_type": "stream",
     "text": [
      "0.909375\n"
     ]
    },
    {
     "name": "stderr",
     "output_type": "stream",
     "text": [
      "/opt/homebrew/lib/python3.11/site-packages/sklearn/utils/validation.py:1111: DataConversionWarning: A column-vector y was passed when a 1d array was expected. Please change the shape of y to (n_samples, ), for example using ravel().\n",
      "  y = column_or_1d(y, warn=True)\n"
     ]
    }
   ],
   "source": [
    "log_reg= LogisticRegression()\n",
    "log_reg.fit(X_train, y_train)\n",
    "y_pred_train_sk= log_reg.predict(X_train)\n",
    "print(accuracy(y_train, y_pred_train_sk))"
   ]
  },
  {
   "cell_type": "code",
   "execution_count": 28,
   "id": "93788fad",
   "metadata": {},
   "outputs": [
    {
     "name": "stdout",
     "output_type": "stream",
     "text": [
      "0.93\n"
     ]
    }
   ],
   "source": [
    "y_pred_test_sk= log_reg.predict(X_test)\n",
    "print(accuracy(y_test, y_pred_test_sk))"
   ]
  },
  {
   "cell_type": "markdown",
   "id": "af8556ae",
   "metadata": {},
   "source": [
    "# The accuracy of the developed model on the test set is 0.92 while that of sklearn model is 0.93"
   ]
  },
  {
   "cell_type": "code",
   "execution_count": 29,
   "id": "fee4085a",
   "metadata": {},
   "outputs": [],
   "source": [
    "# training the model on the 2nd dataset"
   ]
  },
  {
   "cell_type": "code",
   "execution_count": 16,
   "id": "0b72cbd3",
   "metadata": {},
   "outputs": [
    {
     "data": {
      "text/plain": [
       "dtype('float64')"
      ]
     },
     "execution_count": 16,
     "metadata": {},
     "output_type": "execute_result"
    }
   ],
   "source": [
    "data_2= np.array(pd.read_csv('ds2_train.csv'))\n",
    "train_2, test_2= Splitter(data_2)\n",
    "data_train_2= data_2[train_2]\n",
    "data_cv_2= data_2[test_2]\n",
    "\n",
    "X_train_2= data_train_2[:, :2]\n",
    "X_cv_2= data_cv_2[:, :2]\n",
    "data\n",
    "y_train_2= data_train_2[:, 2:]\n",
    "y_cv_2= data_cv_2[:, 2:]\n",
    "\n",
    "X_train_2.dtype"
   ]
  },
  {
   "cell_type": "code",
   "execution_count": 17,
   "id": "87e2166c",
   "metadata": {},
   "outputs": [
    {
     "name": "stdout",
     "output_type": "stream",
     "text": [
      "[442.92454963]\n",
      "[211.28330359]\n",
      "[172.26597401]\n",
      "[157.12878413]\n",
      "[149.32527957]\n",
      "[144.69091812]\n",
      "[141.69516213]\n",
      "[139.64627551]\n",
      "[138.18756066]\n",
      "[137.11740828]\n"
     ]
    }
   ],
   "source": [
    "# boxcox transformation and scaling the features\n",
    "X_train_2= boxcox_gauss_transform(X_train_2)\n",
    "X_train_2= scaler.fit_transform(X_train_2)\n",
    "model_2= Logistic_Regression(n_iters= 10000, alpha= 0.01, lambda_=1)\n",
    "model_2.fit(X_train_2, y_train_2)\n",
    "y_train_pred_2= model_2.predict(X_train_2)"
   ]
  },
  {
   "cell_type": "code",
   "execution_count": 18,
   "id": "300d495a",
   "metadata": {},
   "outputs": [
    {
     "name": "stdout",
     "output_type": "stream",
     "text": [
      "0.9078125\n"
     ]
    }
   ],
   "source": [
    "y_train_pred_2= final(y_train_pred_2)\n",
    "print(accuracy(y_train_2, y_train_pred_2))"
   ]
  },
  {
   "cell_type": "code",
   "execution_count": 19,
   "id": "ca3d7ffa",
   "metadata": {},
   "outputs": [],
   "source": [
    "X_cv_2= boxcox_gauss_transform(X_cv_2)\n",
    "X_cv_2= scaler.fit_transform(X_cv_2)"
   ]
  },
  {
   "cell_type": "code",
   "execution_count": 20,
   "id": "30dc55c1",
   "metadata": {},
   "outputs": [
    {
     "name": "stdout",
     "output_type": "stream",
     "text": [
      "0.95625\n"
     ]
    }
   ],
   "source": [
    "y_cv_pred_2= final(model_2.predict(X_cv_2))\n",
    "print(accuracy(y_cv_2, y_cv_pred_2))"
   ]
  },
  {
   "cell_type": "code",
   "execution_count": 21,
   "id": "fe14eb2d",
   "metadata": {},
   "outputs": [],
   "source": [
    "data_test_2= np.array(pd.read_csv('ds2_test.csv'))\n",
    "X_test_2= data_test_2[:, :2]\n",
    "y_test_2= data_test_2[:, 2:]\n",
    "\n",
    "#boxcox transformation and scaling\n",
    "X_test_2= boxcox_gauss_transform(X_test_2)\n",
    "X_test_2= scaler.fit_transform(X_test_2)"
   ]
  },
  {
   "cell_type": "code",
   "execution_count": 22,
   "id": "5c1d5f04",
   "metadata": {},
   "outputs": [],
   "source": [
    "n_iters_list=[1000, 10000]\n",
    "alphas= [ 0.01, 0.001]\n",
    "lambdas=[0.1 ,1.0,10.0]"
   ]
  },
  {
   "cell_type": "code",
   "execution_count": 23,
   "id": "67d2bd2d",
   "metadata": {},
   "outputs": [
    {
     "name": "stdout",
     "output_type": "stream",
     "text": [
      "[442.92454962]\n"
     ]
    },
    {
     "name": "stderr",
     "output_type": "stream",
     "text": [
      "/var/folders/rz/4wkyghgs70q02_v9zvprnnhw0000gn/T/ipykernel_672/1691398175.py:14: RuntimeWarning: invalid value encountered in scalar divide\n",
      "  recall= (confusion_matrix[0,0]/(confusion_matrix[0,0]+confusion_matrix[0,1]))\n",
      "/var/folders/rz/4wkyghgs70q02_v9zvprnnhw0000gn/T/ipykernel_672/1691398175.py:15: RuntimeWarning: invalid value encountered in scalar divide\n",
      "  precision= (confusion_matrix[0,0]/(confusion_matrix[0,0]+confusion_matrix[1,0]))\n"
     ]
    },
    {
     "name": "stdout",
     "output_type": "stream",
     "text": [
      "[442.92454962]\n",
      "[211.28101881]\n",
      "[172.26131872]\n",
      "[157.12221474]\n",
      "[149.31712894]\n",
      "[144.68143113]\n",
      "[141.68452641]\n",
      "[139.6346398]\n",
      "[138.17504599]\n",
      "[137.10411513]\n",
      "[443.54518049]\n",
      "[443.54518049]\n",
      "[384.58493301]\n",
      "[341.53921111]\n",
      "[309.45237407]\n",
      "[284.93843023]\n",
      "[265.75418913]\n",
      "[250.40999819]\n",
      "[237.89980404]\n",
      "[227.52898425]\n",
      "[218.80674201]\n",
      "[442.92454963]\n",
      "[442.92454963]\n",
      "[211.28330359]\n",
      "[172.26597401]\n",
      "[157.12878413]\n",
      "[149.32527957]\n",
      "[144.69091812]\n",
      "[141.69516213]\n",
      "[139.64627551]\n",
      "[138.18756066]\n",
      "[137.11740828]\n",
      "[443.54518049]\n",
      "[443.54518049]\n",
      "[384.58499779]\n",
      "[341.53943369]\n",
      "[309.45280886]\n",
      "[284.93910819]\n",
      "[265.75512708]\n",
      "[250.41120435]\n",
      "[237.90128133]\n",
      "[227.53073232]\n",
      "[218.80875842]\n",
      "[442.9245497]\n",
      "[442.9245497]\n",
      "[211.30615145]\n",
      "[172.31252695]\n",
      "[157.19447799]\n",
      "[149.40678584]\n",
      "[144.78578805]\n",
      "[141.80151932]\n",
      "[139.76263261]\n",
      "[138.31270742]\n",
      "[137.25033973]\n",
      "[443.54518049]\n",
      "[443.54518049]\n",
      "[384.5856456]\n",
      "[341.54165948]\n",
      "[309.45715675]\n",
      "[284.94588778]\n",
      "[265.76450656]\n",
      "[250.42326591]\n",
      "[237.91605424]\n",
      "[227.54821294]\n",
      "[218.82892253]\n"
     ]
    }
   ],
   "source": [
    "accuracy_list_2=[]\n",
    "f1_score_list_2=[]\n",
    "for k in lambdas:\n",
    "    for i in alphas:\n",
    "        for j in n_iters_list:\n",
    "            X_train_2= data_train_2[:, :2]\n",
    "            y_train_2= data_train_2[:, 2:]\n",
    "            #boxcox transformation and scaling\n",
    "            X_train_2= boxcox_gauss_transform(X_train_2)\n",
    "            X_train_2= scaler.fit_transform(X_train_2)\n",
    "            model_new_2= Logistic_Regression(n_iters=j, alpha=i, lambda_=k)\n",
    "            model_new_2.fit(X_train_2, y_train_2)\n",
    "            y_pred_= final(model_new_2.predict(X_test_2))\n",
    "            accuracy_list_2.append(accuracy(y_test_2, y_pred_))\n",
    "            _,_,_,f1_score_2= confusion_matrix_fun(y_test_2, y_pred_)\n",
    "            f1_score_list_2.append(f1_score_2)"
   ]
  },
  {
   "cell_type": "code",
   "execution_count": 24,
   "id": "2391b225",
   "metadata": {},
   "outputs": [
    {
     "name": "stdout",
     "output_type": "stream",
     "text": [
      "[0.93, 0.93, 0.93, 0.93, 0.93, 0.93, 0.93, 0.93, 0.93, 0.93, 0.93, 0.93]\n"
     ]
    }
   ],
   "source": [
    "print(accuracy_list_2)"
   ]
  },
  {
   "cell_type": "code",
   "execution_count": 25,
   "id": "703f0417",
   "metadata": {},
   "outputs": [
    {
     "name": "stdout",
     "output_type": "stream",
     "text": [
      "[0.9306930693069307, 0.9306930693069307, 0.9306930693069307, 0.9306930693069307, 0.9306930693069307, 0.9306930693069307, 0.9306930693069307, 0.9306930693069307, 0.9306930693069307, 0.9306930693069307, 0.9306930693069307, 0.9306930693069307]\n"
     ]
    }
   ],
   "source": [
    "print(f1_score_list_2)"
   ]
  },
  {
   "cell_type": "code",
   "execution_count": 26,
   "id": "f12ffa99",
   "metadata": {},
   "outputs": [],
   "source": [
    "# sklearn on 2nd dataset"
   ]
  },
  {
   "cell_type": "code",
   "execution_count": 31,
   "id": "cf8c767e",
   "metadata": {},
   "outputs": [],
   "source": [
    "X_train_2= data_train_2[:, :2]\n",
    "y_train_2= data_train_2[:, 2:]"
   ]
  },
  {
   "cell_type": "code",
   "execution_count": 33,
   "id": "9b11f9e9",
   "metadata": {},
   "outputs": [
    {
     "name": "stdout",
     "output_type": "stream",
     "text": [
      "0.9109375\n"
     ]
    },
    {
     "name": "stderr",
     "output_type": "stream",
     "text": [
      "/opt/homebrew/lib/python3.11/site-packages/sklearn/utils/validation.py:1111: DataConversionWarning: A column-vector y was passed when a 1d array was expected. Please change the shape of y to (n_samples, ), for example using ravel().\n",
      "  y = column_or_1d(y, warn=True)\n"
     ]
    }
   ],
   "source": [
    "log_reg_2= LogisticRegression()\n",
    "log_reg_2.fit(X_train_2, y_train_2)\n",
    "y_pred_train_sk_2= log_reg.predict(X_train_2)\n",
    "print(accuracy(y_train_2, y_pred_train_sk_2))"
   ]
  },
  {
   "cell_type": "code",
   "execution_count": 35,
   "id": "379146d6",
   "metadata": {},
   "outputs": [
    {
     "name": "stdout",
     "output_type": "stream",
     "text": [
      "0.91\n"
     ]
    }
   ],
   "source": [
    "y_pred_test_sk_2= log_reg.predict(X_test_2)\n",
    "print(accuracy(y_test_2, y_pred_test_sk_2))"
   ]
  }
 ],
 "metadata": {
  "kernelspec": {
   "display_name": "Python 3 (ipykernel)",
   "language": "python",
   "name": "python3"
  },
  "language_info": {
   "codemirror_mode": {
    "name": "ipython",
    "version": 3
   },
   "file_extension": ".py",
   "mimetype": "text/x-python",
   "name": "python",
   "nbconvert_exporter": "python",
   "pygments_lexer": "ipython3",
   "version": "3.11.4"
  }
 },
 "nbformat": 4,
 "nbformat_minor": 5
}
